{
 "cells": [
  {
   "cell_type": "markdown",
   "metadata": {},
   "source": [
    "# Aviation Accident Dataset"
   ]
  },
  {
   "cell_type": "markdown",
   "metadata": {},
   "source": [
    "## Business Problem\n",
    "\n",
    "\n",
    "Your company is expanding in to new industries to diversify its portfolio. Specifically, they are interested in purchasing and operating airplanes for commercial and private enterprises, but do not know anything about the potential risks of aircraft. You are charged with determining which aircraft are the lowest risk for the company to start this new business endeavor. You must then translate your findings into actionable insights that the head of the new aviation division can use to help decide which aircraft to purchase."
   ]
  },
  {
   "cell_type": "markdown",
   "metadata": {},
   "source": [
    "### Introduction\n",
    "\n",
    "This project seeks to predict which aircraft is efficient and reliable for a company that is going into this business venture."
   ]
  },
  {
   "cell_type": "markdown",
   "metadata": {},
   "source": [
    "### Data Source and Exploration\n",
    "\n",
    "This data comes from https://www.kaggle.com/datasets/khsamaha/aviation-accident-database-synopses which provides information about aviation accidents \n",
    "\n",
    "The findings of this project will be valuable to:\n",
    "\n",
    "Aviation Division Executives,\n",
    "Risk Management Team,\n",
    "Regulatory and Safety Compliance Teams,\n",
    "Investors and Financial Analysts.\n",
    "These stakeholders will use the insights from this study to make strategic, financial, and operational decisions regarding the company’s aviation expansion.\n",
    "\n",
    "This analysis provides you with critical insights into aircraft safety records, reliability, and operational risks."
   ]
  },
  {
   "cell_type": "markdown",
   "metadata": {},
   "source": [
    "#### Loading Required Libraries "
   ]
  },
  {
   "cell_type": "code",
   "execution_count": 2,
   "metadata": {},
   "outputs": [],
   "source": [
    "# Importing the required libraries\n",
    "\n",
    "import pandas as pd\n",
    "import matplotlib.pyplot as plt\n",
    "import numpy as np\n",
    "import seaborn as sns"
   ]
  },
  {
   "cell_type": "code",
   "execution_count": 3,
   "metadata": {},
   "outputs": [
    {
     "name": "stderr",
     "output_type": "stream",
     "text": [
      "c:\\Users\\NOEL\\anaconda3\\envs\\learn-env\\lib\\site-packages\\IPython\\core\\interactiveshell.py:3145: DtypeWarning: Columns (6,7,28) have mixed types.Specify dtype option on import or set low_memory=False.\n",
      "  has_raised = await self.run_ast_nodes(code_ast.body, cell_name,\n"
     ]
    },
    {
     "data": {
      "text/html": [
       "<div>\n",
       "<style scoped>\n",
       "    .dataframe tbody tr th:only-of-type {\n",
       "        vertical-align: middle;\n",
       "    }\n",
       "\n",
       "    .dataframe tbody tr th {\n",
       "        vertical-align: top;\n",
       "    }\n",
       "\n",
       "    .dataframe thead th {\n",
       "        text-align: right;\n",
       "    }\n",
       "</style>\n",
       "<table border=\"1\" class=\"dataframe\">\n",
       "  <thead>\n",
       "    <tr style=\"text-align: right;\">\n",
       "      <th></th>\n",
       "      <th>Event.Id</th>\n",
       "      <th>Investigation.Type</th>\n",
       "      <th>Accident.Number</th>\n",
       "      <th>Event.Date</th>\n",
       "      <th>Location</th>\n",
       "      <th>Country</th>\n",
       "      <th>Latitude</th>\n",
       "      <th>Longitude</th>\n",
       "      <th>Airport.Code</th>\n",
       "      <th>Airport.Name</th>\n",
       "      <th>...</th>\n",
       "      <th>Purpose.of.flight</th>\n",
       "      <th>Air.carrier</th>\n",
       "      <th>Total.Fatal.Injuries</th>\n",
       "      <th>Total.Serious.Injuries</th>\n",
       "      <th>Total.Minor.Injuries</th>\n",
       "      <th>Total.Uninjured</th>\n",
       "      <th>Weather.Condition</th>\n",
       "      <th>Broad.phase.of.flight</th>\n",
       "      <th>Report.Status</th>\n",
       "      <th>Publication.Date</th>\n",
       "    </tr>\n",
       "  </thead>\n",
       "  <tbody>\n",
       "    <tr>\n",
       "      <th>0</th>\n",
       "      <td>20001218X45444</td>\n",
       "      <td>Accident</td>\n",
       "      <td>SEA87LA080</td>\n",
       "      <td>1948-10-24</td>\n",
       "      <td>MOOSE CREEK, ID</td>\n",
       "      <td>United States</td>\n",
       "      <td>NaN</td>\n",
       "      <td>NaN</td>\n",
       "      <td>NaN</td>\n",
       "      <td>NaN</td>\n",
       "      <td>...</td>\n",
       "      <td>Personal</td>\n",
       "      <td>NaN</td>\n",
       "      <td>2.0</td>\n",
       "      <td>0.0</td>\n",
       "      <td>0.0</td>\n",
       "      <td>0.0</td>\n",
       "      <td>UNK</td>\n",
       "      <td>Cruise</td>\n",
       "      <td>Probable Cause</td>\n",
       "      <td>NaN</td>\n",
       "    </tr>\n",
       "    <tr>\n",
       "      <th>1</th>\n",
       "      <td>20001218X45447</td>\n",
       "      <td>Accident</td>\n",
       "      <td>LAX94LA336</td>\n",
       "      <td>1962-07-19</td>\n",
       "      <td>BRIDGEPORT, CA</td>\n",
       "      <td>United States</td>\n",
       "      <td>NaN</td>\n",
       "      <td>NaN</td>\n",
       "      <td>NaN</td>\n",
       "      <td>NaN</td>\n",
       "      <td>...</td>\n",
       "      <td>Personal</td>\n",
       "      <td>NaN</td>\n",
       "      <td>4.0</td>\n",
       "      <td>0.0</td>\n",
       "      <td>0.0</td>\n",
       "      <td>0.0</td>\n",
       "      <td>UNK</td>\n",
       "      <td>Unknown</td>\n",
       "      <td>Probable Cause</td>\n",
       "      <td>19-09-1996</td>\n",
       "    </tr>\n",
       "    <tr>\n",
       "      <th>2</th>\n",
       "      <td>20061025X01555</td>\n",
       "      <td>Accident</td>\n",
       "      <td>NYC07LA005</td>\n",
       "      <td>1974-08-30</td>\n",
       "      <td>Saltville, VA</td>\n",
       "      <td>United States</td>\n",
       "      <td>36.9222</td>\n",
       "      <td>-81.8781</td>\n",
       "      <td>NaN</td>\n",
       "      <td>NaN</td>\n",
       "      <td>...</td>\n",
       "      <td>Personal</td>\n",
       "      <td>NaN</td>\n",
       "      <td>3.0</td>\n",
       "      <td>NaN</td>\n",
       "      <td>NaN</td>\n",
       "      <td>NaN</td>\n",
       "      <td>IMC</td>\n",
       "      <td>Cruise</td>\n",
       "      <td>Probable Cause</td>\n",
       "      <td>26-02-2007</td>\n",
       "    </tr>\n",
       "    <tr>\n",
       "      <th>3</th>\n",
       "      <td>20001218X45448</td>\n",
       "      <td>Accident</td>\n",
       "      <td>LAX96LA321</td>\n",
       "      <td>1977-06-19</td>\n",
       "      <td>EUREKA, CA</td>\n",
       "      <td>United States</td>\n",
       "      <td>NaN</td>\n",
       "      <td>NaN</td>\n",
       "      <td>NaN</td>\n",
       "      <td>NaN</td>\n",
       "      <td>...</td>\n",
       "      <td>Personal</td>\n",
       "      <td>NaN</td>\n",
       "      <td>2.0</td>\n",
       "      <td>0.0</td>\n",
       "      <td>0.0</td>\n",
       "      <td>0.0</td>\n",
       "      <td>IMC</td>\n",
       "      <td>Cruise</td>\n",
       "      <td>Probable Cause</td>\n",
       "      <td>12-09-2000</td>\n",
       "    </tr>\n",
       "    <tr>\n",
       "      <th>4</th>\n",
       "      <td>20041105X01764</td>\n",
       "      <td>Accident</td>\n",
       "      <td>CHI79FA064</td>\n",
       "      <td>1979-08-02</td>\n",
       "      <td>Canton, OH</td>\n",
       "      <td>United States</td>\n",
       "      <td>NaN</td>\n",
       "      <td>NaN</td>\n",
       "      <td>NaN</td>\n",
       "      <td>NaN</td>\n",
       "      <td>...</td>\n",
       "      <td>Personal</td>\n",
       "      <td>NaN</td>\n",
       "      <td>1.0</td>\n",
       "      <td>2.0</td>\n",
       "      <td>NaN</td>\n",
       "      <td>0.0</td>\n",
       "      <td>VMC</td>\n",
       "      <td>Approach</td>\n",
       "      <td>Probable Cause</td>\n",
       "      <td>16-04-1980</td>\n",
       "    </tr>\n",
       "  </tbody>\n",
       "</table>\n",
       "<p>5 rows × 31 columns</p>\n",
       "</div>"
      ],
      "text/plain": [
       "         Event.Id Investigation.Type Accident.Number  Event.Date  \\\n",
       "0  20001218X45444           Accident      SEA87LA080  1948-10-24   \n",
       "1  20001218X45447           Accident      LAX94LA336  1962-07-19   \n",
       "2  20061025X01555           Accident      NYC07LA005  1974-08-30   \n",
       "3  20001218X45448           Accident      LAX96LA321  1977-06-19   \n",
       "4  20041105X01764           Accident      CHI79FA064  1979-08-02   \n",
       "\n",
       "          Location        Country Latitude Longitude Airport.Code  \\\n",
       "0  MOOSE CREEK, ID  United States      NaN       NaN          NaN   \n",
       "1   BRIDGEPORT, CA  United States      NaN       NaN          NaN   \n",
       "2    Saltville, VA  United States  36.9222  -81.8781          NaN   \n",
       "3       EUREKA, CA  United States      NaN       NaN          NaN   \n",
       "4       Canton, OH  United States      NaN       NaN          NaN   \n",
       "\n",
       "  Airport.Name  ... Purpose.of.flight Air.carrier Total.Fatal.Injuries  \\\n",
       "0          NaN  ...          Personal         NaN                  2.0   \n",
       "1          NaN  ...          Personal         NaN                  4.0   \n",
       "2          NaN  ...          Personal         NaN                  3.0   \n",
       "3          NaN  ...          Personal         NaN                  2.0   \n",
       "4          NaN  ...          Personal         NaN                  1.0   \n",
       "\n",
       "  Total.Serious.Injuries Total.Minor.Injuries Total.Uninjured  \\\n",
       "0                    0.0                  0.0             0.0   \n",
       "1                    0.0                  0.0             0.0   \n",
       "2                    NaN                  NaN             NaN   \n",
       "3                    0.0                  0.0             0.0   \n",
       "4                    2.0                  NaN             0.0   \n",
       "\n",
       "  Weather.Condition  Broad.phase.of.flight   Report.Status Publication.Date  \n",
       "0               UNK                 Cruise  Probable Cause              NaN  \n",
       "1               UNK                Unknown  Probable Cause       19-09-1996  \n",
       "2               IMC                 Cruise  Probable Cause       26-02-2007  \n",
       "3               IMC                 Cruise  Probable Cause       12-09-2000  \n",
       "4               VMC               Approach  Probable Cause       16-04-1980  \n",
       "\n",
       "[5 rows x 31 columns]"
      ]
     },
     "execution_count": 3,
     "metadata": {},
     "output_type": "execute_result"
    }
   ],
   "source": [
    "# Importing the file using a proper encoding\n",
    "\n",
    "df = pd.read_csv('AviationData.csv', encoding='latin-1')\n",
    "\n",
    "# Print the first five rows\n",
    "df.head()"
   ]
  },
  {
   "cell_type": "code",
   "execution_count": 4,
   "metadata": {},
   "outputs": [
    {
     "data": {
      "text/html": [
       "<div>\n",
       "<style scoped>\n",
       "    .dataframe tbody tr th:only-of-type {\n",
       "        vertical-align: middle;\n",
       "    }\n",
       "\n",
       "    .dataframe tbody tr th {\n",
       "        vertical-align: top;\n",
       "    }\n",
       "\n",
       "    .dataframe thead th {\n",
       "        text-align: right;\n",
       "    }\n",
       "</style>\n",
       "<table border=\"1\" class=\"dataframe\">\n",
       "  <thead>\n",
       "    <tr style=\"text-align: right;\">\n",
       "      <th></th>\n",
       "      <th>Event.Id</th>\n",
       "      <th>Investigation.Type</th>\n",
       "      <th>Accident.Number</th>\n",
       "      <th>Event.Date</th>\n",
       "      <th>Location</th>\n",
       "      <th>Country</th>\n",
       "      <th>Latitude</th>\n",
       "      <th>Longitude</th>\n",
       "      <th>Airport.Code</th>\n",
       "      <th>Airport.Name</th>\n",
       "      <th>...</th>\n",
       "      <th>Purpose.of.flight</th>\n",
       "      <th>Air.carrier</th>\n",
       "      <th>Total.Fatal.Injuries</th>\n",
       "      <th>Total.Serious.Injuries</th>\n",
       "      <th>Total.Minor.Injuries</th>\n",
       "      <th>Total.Uninjured</th>\n",
       "      <th>Weather.Condition</th>\n",
       "      <th>Broad.phase.of.flight</th>\n",
       "      <th>Report.Status</th>\n",
       "      <th>Publication.Date</th>\n",
       "    </tr>\n",
       "  </thead>\n",
       "  <tbody>\n",
       "    <tr>\n",
       "      <th>88884</th>\n",
       "      <td>20221227106491</td>\n",
       "      <td>Accident</td>\n",
       "      <td>ERA23LA093</td>\n",
       "      <td>2022-12-26</td>\n",
       "      <td>Annapolis, MD</td>\n",
       "      <td>United States</td>\n",
       "      <td>NaN</td>\n",
       "      <td>NaN</td>\n",
       "      <td>NaN</td>\n",
       "      <td>NaN</td>\n",
       "      <td>...</td>\n",
       "      <td>Personal</td>\n",
       "      <td>NaN</td>\n",
       "      <td>0.0</td>\n",
       "      <td>1.0</td>\n",
       "      <td>0.0</td>\n",
       "      <td>0.0</td>\n",
       "      <td>NaN</td>\n",
       "      <td>NaN</td>\n",
       "      <td>NaN</td>\n",
       "      <td>29-12-2022</td>\n",
       "    </tr>\n",
       "    <tr>\n",
       "      <th>88885</th>\n",
       "      <td>20221227106494</td>\n",
       "      <td>Accident</td>\n",
       "      <td>ERA23LA095</td>\n",
       "      <td>2022-12-26</td>\n",
       "      <td>Hampton, NH</td>\n",
       "      <td>United States</td>\n",
       "      <td>NaN</td>\n",
       "      <td>NaN</td>\n",
       "      <td>NaN</td>\n",
       "      <td>NaN</td>\n",
       "      <td>...</td>\n",
       "      <td>NaN</td>\n",
       "      <td>NaN</td>\n",
       "      <td>0.0</td>\n",
       "      <td>0.0</td>\n",
       "      <td>0.0</td>\n",
       "      <td>0.0</td>\n",
       "      <td>NaN</td>\n",
       "      <td>NaN</td>\n",
       "      <td>NaN</td>\n",
       "      <td>NaN</td>\n",
       "    </tr>\n",
       "    <tr>\n",
       "      <th>88886</th>\n",
       "      <td>20221227106497</td>\n",
       "      <td>Accident</td>\n",
       "      <td>WPR23LA075</td>\n",
       "      <td>2022-12-26</td>\n",
       "      <td>Payson, AZ</td>\n",
       "      <td>United States</td>\n",
       "      <td>341525N</td>\n",
       "      <td>1112021W</td>\n",
       "      <td>PAN</td>\n",
       "      <td>PAYSON</td>\n",
       "      <td>...</td>\n",
       "      <td>Personal</td>\n",
       "      <td>NaN</td>\n",
       "      <td>0.0</td>\n",
       "      <td>0.0</td>\n",
       "      <td>0.0</td>\n",
       "      <td>1.0</td>\n",
       "      <td>VMC</td>\n",
       "      <td>NaN</td>\n",
       "      <td>NaN</td>\n",
       "      <td>27-12-2022</td>\n",
       "    </tr>\n",
       "    <tr>\n",
       "      <th>88887</th>\n",
       "      <td>20221227106498</td>\n",
       "      <td>Accident</td>\n",
       "      <td>WPR23LA076</td>\n",
       "      <td>2022-12-26</td>\n",
       "      <td>Morgan, UT</td>\n",
       "      <td>United States</td>\n",
       "      <td>NaN</td>\n",
       "      <td>NaN</td>\n",
       "      <td>NaN</td>\n",
       "      <td>NaN</td>\n",
       "      <td>...</td>\n",
       "      <td>Personal</td>\n",
       "      <td>MC CESSNA 210N LLC</td>\n",
       "      <td>0.0</td>\n",
       "      <td>0.0</td>\n",
       "      <td>0.0</td>\n",
       "      <td>0.0</td>\n",
       "      <td>NaN</td>\n",
       "      <td>NaN</td>\n",
       "      <td>NaN</td>\n",
       "      <td>NaN</td>\n",
       "    </tr>\n",
       "    <tr>\n",
       "      <th>88888</th>\n",
       "      <td>20221230106513</td>\n",
       "      <td>Accident</td>\n",
       "      <td>ERA23LA097</td>\n",
       "      <td>2022-12-29</td>\n",
       "      <td>Athens, GA</td>\n",
       "      <td>United States</td>\n",
       "      <td>NaN</td>\n",
       "      <td>NaN</td>\n",
       "      <td>NaN</td>\n",
       "      <td>NaN</td>\n",
       "      <td>...</td>\n",
       "      <td>Personal</td>\n",
       "      <td>NaN</td>\n",
       "      <td>0.0</td>\n",
       "      <td>1.0</td>\n",
       "      <td>0.0</td>\n",
       "      <td>1.0</td>\n",
       "      <td>NaN</td>\n",
       "      <td>NaN</td>\n",
       "      <td>NaN</td>\n",
       "      <td>30-12-2022</td>\n",
       "    </tr>\n",
       "  </tbody>\n",
       "</table>\n",
       "<p>5 rows × 31 columns</p>\n",
       "</div>"
      ],
      "text/plain": [
       "             Event.Id Investigation.Type Accident.Number  Event.Date  \\\n",
       "88884  20221227106491           Accident      ERA23LA093  2022-12-26   \n",
       "88885  20221227106494           Accident      ERA23LA095  2022-12-26   \n",
       "88886  20221227106497           Accident      WPR23LA075  2022-12-26   \n",
       "88887  20221227106498           Accident      WPR23LA076  2022-12-26   \n",
       "88888  20221230106513           Accident      ERA23LA097  2022-12-29   \n",
       "\n",
       "            Location        Country Latitude Longitude Airport.Code  \\\n",
       "88884  Annapolis, MD  United States      NaN       NaN          NaN   \n",
       "88885    Hampton, NH  United States      NaN       NaN          NaN   \n",
       "88886     Payson, AZ  United States  341525N  1112021W          PAN   \n",
       "88887     Morgan, UT  United States      NaN       NaN          NaN   \n",
       "88888     Athens, GA  United States      NaN       NaN          NaN   \n",
       "\n",
       "      Airport.Name  ... Purpose.of.flight         Air.carrier  \\\n",
       "88884          NaN  ...          Personal                 NaN   \n",
       "88885          NaN  ...               NaN                 NaN   \n",
       "88886       PAYSON  ...          Personal                 NaN   \n",
       "88887          NaN  ...          Personal  MC CESSNA 210N LLC   \n",
       "88888          NaN  ...          Personal                 NaN   \n",
       "\n",
       "      Total.Fatal.Injuries Total.Serious.Injuries Total.Minor.Injuries  \\\n",
       "88884                  0.0                    1.0                  0.0   \n",
       "88885                  0.0                    0.0                  0.0   \n",
       "88886                  0.0                    0.0                  0.0   \n",
       "88887                  0.0                    0.0                  0.0   \n",
       "88888                  0.0                    1.0                  0.0   \n",
       "\n",
       "      Total.Uninjured Weather.Condition  Broad.phase.of.flight Report.Status  \\\n",
       "88884             0.0               NaN                    NaN           NaN   \n",
       "88885             0.0               NaN                    NaN           NaN   \n",
       "88886             1.0               VMC                    NaN           NaN   \n",
       "88887             0.0               NaN                    NaN           NaN   \n",
       "88888             1.0               NaN                    NaN           NaN   \n",
       "\n",
       "      Publication.Date  \n",
       "88884       29-12-2022  \n",
       "88885              NaN  \n",
       "88886       27-12-2022  \n",
       "88887              NaN  \n",
       "88888       30-12-2022  \n",
       "\n",
       "[5 rows x 31 columns]"
      ]
     },
     "execution_count": 4,
     "metadata": {},
     "output_type": "execute_result"
    }
   ],
   "source": [
    "# Print the last five rows\n",
    "\n",
    "df.tail()"
   ]
  },
  {
   "cell_type": "code",
   "execution_count": 5,
   "metadata": {},
   "outputs": [
    {
     "data": {
      "text/plain": [
       "(88889, 31)"
      ]
     },
     "execution_count": 5,
     "metadata": {},
     "output_type": "execute_result"
    }
   ],
   "source": [
    "# Check the number of rows and columns in the dataset\n",
    "\n",
    "df.shape\n",
    "\n",
    "# There are 88889 entries and 31 columns"
   ]
  },
  {
   "cell_type": "code",
   "execution_count": 6,
   "metadata": {},
   "outputs": [
    {
     "name": "stdout",
     "output_type": "stream",
     "text": [
      "<class 'pandas.core.frame.DataFrame'>\n",
      "RangeIndex: 88889 entries, 0 to 88888\n",
      "Data columns (total 31 columns):\n",
      " #   Column                  Non-Null Count  Dtype  \n",
      "---  ------                  --------------  -----  \n",
      " 0   Event.Id                88889 non-null  object \n",
      " 1   Investigation.Type      88889 non-null  object \n",
      " 2   Accident.Number         88889 non-null  object \n",
      " 3   Event.Date              88889 non-null  object \n",
      " 4   Location                88837 non-null  object \n",
      " 5   Country                 88663 non-null  object \n",
      " 6   Latitude                34382 non-null  object \n",
      " 7   Longitude               34373 non-null  object \n",
      " 8   Airport.Code            50249 non-null  object \n",
      " 9   Airport.Name            52790 non-null  object \n",
      " 10  Injury.Severity         87889 non-null  object \n",
      " 11  Aircraft.damage         85695 non-null  object \n",
      " 12  Aircraft.Category       32287 non-null  object \n",
      " 13  Registration.Number     87572 non-null  object \n",
      " 14  Make                    88826 non-null  object \n",
      " 15  Model                   88797 non-null  object \n",
      " 16  Amateur.Built           88787 non-null  object \n",
      " 17  Number.of.Engines       82805 non-null  float64\n",
      " 18  Engine.Type             81812 non-null  object \n",
      " 19  FAR.Description         32023 non-null  object \n",
      " 20  Schedule                12582 non-null  object \n",
      " 21  Purpose.of.flight       82697 non-null  object \n",
      " 22  Air.carrier             16648 non-null  object \n",
      " 23  Total.Fatal.Injuries    77488 non-null  float64\n",
      " 24  Total.Serious.Injuries  76379 non-null  float64\n",
      " 25  Total.Minor.Injuries    76956 non-null  float64\n",
      " 26  Total.Uninjured         82977 non-null  float64\n",
      " 27  Weather.Condition       84397 non-null  object \n",
      " 28  Broad.phase.of.flight   61724 non-null  object \n",
      " 29  Report.Status           82508 non-null  object \n",
      " 30  Publication.Date        75118 non-null  object \n",
      "dtypes: float64(5), object(26)\n",
      "memory usage: 21.0+ MB\n"
     ]
    }
   ],
   "source": [
    "# Provides us with the summary of the data(Characteristics of the DataFrame)\n",
    "\n",
    "df.info()"
   ]
  },
  {
   "cell_type": "code",
   "execution_count": 7,
   "metadata": {},
   "outputs": [
    {
     "data": {
      "text/html": [
       "<div>\n",
       "<style scoped>\n",
       "    .dataframe tbody tr th:only-of-type {\n",
       "        vertical-align: middle;\n",
       "    }\n",
       "\n",
       "    .dataframe tbody tr th {\n",
       "        vertical-align: top;\n",
       "    }\n",
       "\n",
       "    .dataframe thead th {\n",
       "        text-align: right;\n",
       "    }\n",
       "</style>\n",
       "<table border=\"1\" class=\"dataframe\">\n",
       "  <thead>\n",
       "    <tr style=\"text-align: right;\">\n",
       "      <th></th>\n",
       "      <th>Number.of.Engines</th>\n",
       "      <th>Total.Fatal.Injuries</th>\n",
       "      <th>Total.Serious.Injuries</th>\n",
       "      <th>Total.Minor.Injuries</th>\n",
       "      <th>Total.Uninjured</th>\n",
       "    </tr>\n",
       "  </thead>\n",
       "  <tbody>\n",
       "    <tr>\n",
       "      <th>count</th>\n",
       "      <td>82805.000000</td>\n",
       "      <td>77488.000000</td>\n",
       "      <td>76379.000000</td>\n",
       "      <td>76956.000000</td>\n",
       "      <td>82977.000000</td>\n",
       "    </tr>\n",
       "    <tr>\n",
       "      <th>mean</th>\n",
       "      <td>1.146585</td>\n",
       "      <td>0.647855</td>\n",
       "      <td>0.279881</td>\n",
       "      <td>0.357061</td>\n",
       "      <td>5.325440</td>\n",
       "    </tr>\n",
       "    <tr>\n",
       "      <th>std</th>\n",
       "      <td>0.446510</td>\n",
       "      <td>5.485960</td>\n",
       "      <td>1.544084</td>\n",
       "      <td>2.235625</td>\n",
       "      <td>27.913634</td>\n",
       "    </tr>\n",
       "    <tr>\n",
       "      <th>min</th>\n",
       "      <td>0.000000</td>\n",
       "      <td>0.000000</td>\n",
       "      <td>0.000000</td>\n",
       "      <td>0.000000</td>\n",
       "      <td>0.000000</td>\n",
       "    </tr>\n",
       "    <tr>\n",
       "      <th>25%</th>\n",
       "      <td>1.000000</td>\n",
       "      <td>0.000000</td>\n",
       "      <td>0.000000</td>\n",
       "      <td>0.000000</td>\n",
       "      <td>0.000000</td>\n",
       "    </tr>\n",
       "    <tr>\n",
       "      <th>50%</th>\n",
       "      <td>1.000000</td>\n",
       "      <td>0.000000</td>\n",
       "      <td>0.000000</td>\n",
       "      <td>0.000000</td>\n",
       "      <td>1.000000</td>\n",
       "    </tr>\n",
       "    <tr>\n",
       "      <th>75%</th>\n",
       "      <td>1.000000</td>\n",
       "      <td>0.000000</td>\n",
       "      <td>0.000000</td>\n",
       "      <td>0.000000</td>\n",
       "      <td>2.000000</td>\n",
       "    </tr>\n",
       "    <tr>\n",
       "      <th>max</th>\n",
       "      <td>8.000000</td>\n",
       "      <td>349.000000</td>\n",
       "      <td>161.000000</td>\n",
       "      <td>380.000000</td>\n",
       "      <td>699.000000</td>\n",
       "    </tr>\n",
       "  </tbody>\n",
       "</table>\n",
       "</div>"
      ],
      "text/plain": [
       "       Number.of.Engines  Total.Fatal.Injuries  Total.Serious.Injuries  \\\n",
       "count       82805.000000          77488.000000            76379.000000   \n",
       "mean            1.146585              0.647855                0.279881   \n",
       "std             0.446510              5.485960                1.544084   \n",
       "min             0.000000              0.000000                0.000000   \n",
       "25%             1.000000              0.000000                0.000000   \n",
       "50%             1.000000              0.000000                0.000000   \n",
       "75%             1.000000              0.000000                0.000000   \n",
       "max             8.000000            349.000000              161.000000   \n",
       "\n",
       "       Total.Minor.Injuries  Total.Uninjured  \n",
       "count          76956.000000     82977.000000  \n",
       "mean               0.357061         5.325440  \n",
       "std                2.235625        27.913634  \n",
       "min                0.000000         0.000000  \n",
       "25%                0.000000         0.000000  \n",
       "50%                0.000000         1.000000  \n",
       "75%                0.000000         2.000000  \n",
       "max              380.000000       699.000000  "
      ]
     },
     "execution_count": 7,
     "metadata": {},
     "output_type": "execute_result"
    }
   ],
   "source": [
    "# Summary statistics of numeric columns\n",
    "\n",
    "df.describe()"
   ]
  },
  {
   "cell_type": "markdown",
   "metadata": {},
   "source": [
    "#### Data Cleaning"
   ]
  },
  {
   "cell_type": "code",
   "execution_count": 8,
   "metadata": {},
   "outputs": [
    {
     "data": {
      "text/plain": [
       "Index(['Event.Id', 'Investigation.Type', 'Accident.Number', 'Event.Date',\n",
       "       'Location', 'Country', 'Latitude', 'Longitude', 'Airport.Code',\n",
       "       'Airport.Name', 'Injury.Severity', 'Aircraft.damage',\n",
       "       'Aircraft.Category', 'Registration.Number', 'Make', 'Model',\n",
       "       'Amateur.Built', 'Number.of.Engines', 'Engine.Type', 'FAR.Description',\n",
       "       'Schedule', 'Purpose.of.flight', 'Air.carrier', 'Total.Fatal.Injuries',\n",
       "       'Total.Serious.Injuries', 'Total.Minor.Injuries', 'Total.Uninjured',\n",
       "       'Weather.Condition', 'Broad.phase.of.flight', 'Report.Status',\n",
       "       'Publication.Date'],\n",
       "      dtype='object')"
      ]
     },
     "execution_count": 8,
     "metadata": {},
     "output_type": "execute_result"
    }
   ],
   "source": [
    "# List of data columns\n",
    "\n",
    "df.columns"
   ]
  },
  {
   "cell_type": "code",
   "execution_count": 9,
   "metadata": {},
   "outputs": [],
   "source": [
    "# Standardizing Column Names\n",
    "\n",
    "df.columns = df.columns.str.title().str.replace(\".\", \"_\")"
   ]
  },
  {
   "cell_type": "code",
   "execution_count": 10,
   "metadata": {},
   "outputs": [
    {
     "data": {
      "text/plain": [
       "Index(['Event_Id', 'Investigation_Type', 'Accident_Number', 'Event_Date',\n",
       "       'Location', 'Country', 'Latitude', 'Longitude', 'Airport_Code',\n",
       "       'Airport_Name', 'Injury_Severity', 'Aircraft_Damage',\n",
       "       'Aircraft_Category', 'Registration_Number', 'Make', 'Model',\n",
       "       'Amateur_Built', 'Number_Of_Engines', 'Engine_Type', 'Far_Description',\n",
       "       'Schedule', 'Purpose_Of_Flight', 'Air_Carrier', 'Total_Fatal_Injuries',\n",
       "       'Total_Serious_Injuries', 'Total_Minor_Injuries', 'Total_Uninjured',\n",
       "       'Weather_Condition', 'Broad_Phase_Of_Flight', 'Report_Status',\n",
       "       'Publication_Date'],\n",
       "      dtype='object')"
      ]
     },
     "execution_count": 10,
     "metadata": {},
     "output_type": "execute_result"
    }
   ],
   "source": [
    "# Confirm the change in our Column Names\n",
    "\n",
    "df.columns"
   ]
  },
  {
   "cell_type": "code",
   "execution_count": 11,
   "metadata": {},
   "outputs": [
    {
     "data": {
      "text/plain": [
       "False    88889\n",
       "dtype: int64"
      ]
     },
     "execution_count": 11,
     "metadata": {},
     "output_type": "execute_result"
    }
   ],
   "source": [
    "# Check for duplicates\n",
    "\n",
    "df.duplicated().value_counts()  # False means there are no Duplicates\n"
   ]
  },
  {
   "cell_type": "code",
   "execution_count": 12,
   "metadata": {},
   "outputs": [],
   "source": [
    "# Convert date columns to datetime format\n",
    "\n",
    "df['Event_Date'] = pd.to_datetime(df['Event_Date'], errors = 'coerce')\n",
    "df['Publication_Date'] = pd.to_datetime(df['Publication_Date'], errors = 'coerce')"
   ]
  },
  {
   "cell_type": "code",
   "execution_count": 13,
   "metadata": {},
   "outputs": [
    {
     "data": {
      "text/plain": [
       "Non-Fatal      67357\n",
       "Fatal(1)        6167\n",
       "Fatal           5262\n",
       "Fatal(2)        3711\n",
       "Incident        2219\n",
       "Fatal(3)        1147\n",
       "Fatal(4)         812\n",
       "Fatal(5)         235\n",
       "Minor            218\n",
       "Serious          173\n",
       "Fatal(6)         161\n",
       "Unavailable       96\n",
       "Fatal(7)          56\n",
       "Fatal(8)          51\n",
       "Fatal(10)         32\n",
       "Fatal(9)          18\n",
       "Fatal(14)         11\n",
       "Fatal(11)         10\n",
       "Fatal(13)          9\n",
       "Fatal(12)          8\n",
       "Name: Injury_Severity, dtype: int64"
      ]
     },
     "execution_count": 13,
     "metadata": {},
     "output_type": "execute_result"
    }
   ],
   "source": [
    "# Check the Injury_Severity column\n",
    "\n",
    "injury_severity = df[\"Injury_Severity\"].value_counts()\n",
    "injury_severity.head(20)"
   ]
  },
  {
   "cell_type": "markdown",
   "metadata": {},
   "source": [
    "`Injury_Severity` and `Total_Fatal_Injuries` has the  safe information but `Total.Fatal.Injuries` has many missing data compared to `Injury_Severity`. Created a new Fatality column with less missing numerical data than `Total_Fatal_Injuries` by combining the two Columns "
   ]
  },
  {
   "cell_type": "code",
   "execution_count": 14,
   "metadata": {},
   "outputs": [],
   "source": [
    "# 'Fatality'  is the new column\n",
    "\n",
    "df['Fatality'] = df['Injury_Severity'].str.extract(r'\\((\\d+)\\)')\n",
    "\n",
    "df['Fatality'].fillna(df['Injury_Severity'], inplace=True)\n",
    "\n",
    "df['Fatality'].replace({'Non-Fatal': 0, 'Minor': 0, 'Serious': 0, 'Incident': 0}, inplace=True)\n",
    "\n",
    "df.loc[df['Fatality'] == 'Fatal', 'Fatality'] = df.loc[df['Fatality'] == 'Fatal', 'Total_Fatal_Injuries']\n",
    "\n",
    "df['Fatality'].replace('Unavailable', np.nan, inplace=True)\n",
    "\n",
    "# Convert to integer, handling NaN values safely\n",
    "df['Fatality'] = pd.to_numeric(df['Fatality'], errors='coerce')\n",
    "\n",
    "# Set float format for better display\n",
    "pd.options.display.float_format = '{:.0f}'.format\n"
   ]
  },
  {
   "cell_type": "code",
   "execution_count": 15,
   "metadata": {},
   "outputs": [
    {
     "data": {
      "text/plain": [
       "0      69998\n",
       "1       8867\n",
       "2       5172\n",
       "3       1588\n",
       "4       1103\n",
       "       ...  \n",
       "31         1\n",
       "169        1\n",
       "150        1\n",
       "117        1\n",
       "156        1\n",
       "Name: Fatality, Length: 125, dtype: int64"
      ]
     },
     "execution_count": 15,
     "metadata": {},
     "output_type": "execute_result"
    }
   ],
   "source": [
    "# The new column 'Fatality' is created\n",
    "\n",
    "df['Fatality'].value_counts()"
   ]
  },
  {
   "cell_type": "code",
   "execution_count": 16,
   "metadata": {},
   "outputs": [],
   "source": [
    "# Dropping the column 'Total_Fatal_Injuries'\n",
    "\n",
    "df.drop(columns=['Total_Fatal_Injuries'], inplace=True)"
   ]
  },
  {
   "cell_type": "code",
   "execution_count": 17,
   "metadata": {},
   "outputs": [
    {
     "data": {
      "text/plain": [
       "VMC        77303\n",
       "IMC         5976\n",
       "Unknown     1118\n",
       "Name: Weather_Condition, dtype: int64"
      ]
     },
     "execution_count": 17,
     "metadata": {},
     "output_type": "execute_result"
    }
   ],
   "source": [
    "# Replace 'Unk' and 'UNK' with 'Unknown' for consistency\n",
    "\n",
    "df['Weather_Condition'].replace(to_replace = ['Unk', 'UNK'], value = 'Unknown', inplace = True, regex = False)\n",
    "\n",
    "# Display the count of each unique weather condition after replacement \n",
    "df['Weather_Condition'].value_counts()"
   ]
  },
  {
   "cell_type": "code",
   "execution_count": 18,
   "metadata": {},
   "outputs": [
    {
     "data": {
      "text/plain": [
       "Event_Id                      0\n",
       "Investigation_Type            0\n",
       "Accident_Number               0\n",
       "Event_Date                    0\n",
       "Location                     52\n",
       "Country                     226\n",
       "Latitude                  54507\n",
       "Longitude                 54516\n",
       "Airport_Code              38640\n",
       "Airport_Name              36099\n",
       "Injury_Severity            1000\n",
       "Aircraft_Damage            3194\n",
       "Aircraft_Category         56602\n",
       "Registration_Number        1317\n",
       "Make                         63\n",
       "Model                        92\n",
       "Amateur_Built               102\n",
       "Number_Of_Engines          6084\n",
       "Engine_Type                7077\n",
       "Far_Description           56866\n",
       "Schedule                  76307\n",
       "Purpose_Of_Flight          6192\n",
       "Air_Carrier               72241\n",
       "Total_Serious_Injuries    12510\n",
       "Total_Minor_Injuries      11933\n",
       "Total_Uninjured            5912\n",
       "Weather_Condition          4492\n",
       "Broad_Phase_Of_Flight     27165\n",
       "Report_Status              6381\n",
       "Publication_Date          13771\n",
       "Fatality                   1096\n",
       "dtype: int64"
      ]
     },
     "execution_count": 18,
     "metadata": {},
     "output_type": "execute_result"
    }
   ],
   "source": [
    "# Check for missing values\n",
    "\n",
    "df.isna().sum()"
   ]
  },
  {
   "cell_type": "markdown",
   "metadata": {},
   "source": [
    "Filling missing values with `Unknown` and for `Number_Of_Engines` with the mean number of engines because it is numeric."
   ]
  },
  {
   "cell_type": "code",
   "execution_count": 19,
   "metadata": {},
   "outputs": [],
   "source": [
    "# Fill the missing values with 'Unknown'\n",
    "\n",
    "df['Aircraft_Category'].fillna( 'UNKNOWN' , inplace=True)\n",
    "df['Aircraft_Category'].replace({ 'UNKNOWN' : 'Airplane' }, inplace=True)\n",
    "df = df[df['Aircraft_Category'].str.contains(\"Airplane\")==True]\n",
    "df['Purpose_Of_Flight'].fillna( 'Unknown' , inplace=True)\n",
    "df['Aircraft_Damage'].fillna( 'Unknown' , inplace=True)\n",
    "df['Broad_Phase_Of_Flight'].fillna( 'UNKNOWN' , inplace=True)\n",
    "df['Number_Of_Engines'].fillna(df['Number_Of_Engines'].mean(), inplace=True)"
   ]
  },
  {
   "cell_type": "code",
   "execution_count": 20,
   "metadata": {},
   "outputs": [
    {
     "data": {
      "text/plain": [
       "Cessna               22227\n",
       "Piper                12029\n",
       "CESSNA                4922\n",
       "Beech                 4330\n",
       "PIPER                 2841\n",
       "Bell                  1799\n",
       "Boeing                1593\n",
       "BOEING                1149\n",
       "Grumman               1094\n",
       "Mooney                1092\n",
       "BEECH                 1042\n",
       "Bellanca               886\n",
       "Hughes                 687\n",
       "Robinson               667\n",
       "Air Tractor            595\n",
       "Schweizer              546\n",
       "Mcdonnell Douglas      521\n",
       "Aeronca                487\n",
       "Maule                  445\n",
       "Champion               428\n",
       "Name: Make, dtype: int64"
      ]
     },
     "execution_count": 20,
     "metadata": {},
     "output_type": "execute_result"
    }
   ],
   "source": [
    "# Count the occurrences of each aircraft manufacturer in the 'Make' column\n",
    "make = df[\"Make\"].value_counts()\n",
    "\n",
    "# Display the top 20 most common aircraft manufacturers\n",
    "make.head(20)"
   ]
  },
  {
   "cell_type": "code",
   "execution_count": 21,
   "metadata": {},
   "outputs": [
    {
     "data": {
      "text/plain": [
       "Cessna         27149\n",
       "Piper          14870\n",
       "Beech           5372\n",
       "Boeing          2742\n",
       "Bell            1812\n",
       "Mooney          1334\n",
       "Grumman         1172\n",
       "Bellanca        1045\n",
       "Air Tractor      691\n",
       "Hughes           688\n",
       "Name: Make, dtype: int64"
      ]
     },
     "execution_count": 21,
     "metadata": {},
     "output_type": "execute_result"
    }
   ],
   "source": [
    "# Standardize the 'Make' column by converting all text to title case  \n",
    "# (e.g., 'CESSNA' and 'cessna' become 'Cessna')  \n",
    "\n",
    "df['Make'] = df['Make'].str.title()\n",
    "\n",
    "# Display the top 10 most common aircraft manufacturers\n",
    "df['Make'].value_counts().nlargest(10)\n",
    "\n"
   ]
  },
  {
   "cell_type": "markdown",
   "metadata": {},
   "source": [
    "#### Analysis"
   ]
  },
  {
   "cell_type": "markdown",
   "metadata": {},
   "source": [
    "##### Aircraft make and model"
   ]
  },
  {
   "cell_type": "code",
   "execution_count": 22,
   "metadata": {},
   "outputs": [
    {
     "data": {
      "text/plain": [
       "Make     Model     \n",
       "Cessna   152           2366\n",
       "         172           1753\n",
       "         172N          1163\n",
       "Piper    PA-28-140      932\n",
       "Cessna   150            829\n",
       "         172M           798\n",
       "         172P           689\n",
       "         182            659\n",
       "         180            621\n",
       "         150M           585\n",
       "Piper    PA-18          578\n",
       "         PA-28-180      572\n",
       "         PA-18-150      571\n",
       "         PA-28-161      565\n",
       "         PA-28-181      529\n",
       "Boeing   737            489\n",
       "Piper    PA-38-112      468\n",
       "Cessna   150L           460\n",
       "Beech    A36            419\n",
       "Cessna   140            401\n",
       "         170B           389\n",
       "         172S           371\n",
       "Grumman  G-164A         365\n",
       "Bell     206B           363\n",
       "Piper    PA-32-300      356\n",
       "Cessna   182P           355\n",
       "Piper    PA-24-250      352\n",
       "         PA-28R-200     334\n",
       "         PA-12          324\n",
       "Cessna   A188B          318\n",
       "dtype: int64"
      ]
     },
     "execution_count": 22,
     "metadata": {},
     "output_type": "execute_result"
    }
   ],
   "source": [
    "# Count occurrences of each unique aircraft Make and Model combination\n",
    "make_model = df[[\"Make\", \"Model\"]].value_counts()\n",
    "\n",
    "# Display the top 30 most common aircraft Make and Model combinations\n",
    "make_model.head(30)"
   ]
  },
  {
   "cell_type": "markdown",
   "metadata": {},
   "source": [
    "##### Aircraft make vs model vs injury severity"
   ]
  },
  {
   "cell_type": "code",
   "execution_count": 23,
   "metadata": {},
   "outputs": [
    {
     "data": {
      "text/plain": [
       "Make     Model       Injury_Severity\n",
       "Cessna   152         Non-Fatal          2093\n",
       "         172         Non-Fatal          1517\n",
       "         172N        Non-Fatal           949\n",
       "Piper    PA-28-140   Non-Fatal           743\n",
       "Cessna   150         Non-Fatal           731\n",
       "         172M        Non-Fatal           655\n",
       "         172P        Non-Fatal           579\n",
       "         180         Non-Fatal           571\n",
       "         182         Non-Fatal           539\n",
       "Piper    PA-18       Non-Fatal           518\n",
       "Cessna   150M        Non-Fatal           515\n",
       "Piper    PA-18-150   Non-Fatal           498\n",
       "         PA-28-161   Non-Fatal           452\n",
       "         PA-28-180   Non-Fatal           428\n",
       "         PA-38-112   Non-Fatal           404\n",
       "         PA-28-181   Non-Fatal           387\n",
       "Cessna   150L        Non-Fatal           376\n",
       "         140         Non-Fatal           369\n",
       "         170B        Non-Fatal           355\n",
       "Grumman  G-164A      Non-Fatal           346\n",
       "Cessna   172S        Non-Fatal           319\n",
       "Bell     206B        Non-Fatal           281\n",
       "Cessna   A188B       Non-Fatal           276\n",
       "Piper    PA-12       Non-Fatal           276\n",
       "Cessna   182P        Non-Fatal           273\n",
       "Beech    A36         Non-Fatal           266\n",
       "Piper    PA-32-300   Non-Fatal           263\n",
       "         PA-24-250   Non-Fatal           253\n",
       "         PA-22-150   Non-Fatal           251\n",
       "Cessna   177         Non-Fatal           249\n",
       "Piper    PA-28R-200  Non-Fatal           245\n",
       "Cessna   185         Non-Fatal           243\n",
       "         A185F       Non-Fatal           239\n",
       "Aeronca  7AC         Non-Fatal           231\n",
       "Boeing   737         Non-Fatal           224\n",
       "Piper    PA-25-235   Non-Fatal           220\n",
       "Cessna   150F        Non-Fatal           216\n",
       "         150H        Non-Fatal           211\n",
       "         150G        Non-Fatal           206\n",
       "Piper    PA28        Non-Fatal           203\n",
       "Cessna   210         Non-Fatal           201\n",
       "         182Q        Non-Fatal           201\n",
       "Piper    PA-23-250   Non-Fatal           200\n",
       "Mooney   M20J        Non-Fatal           192\n",
       "Cessna   172RG       Non-Fatal           191\n",
       "         150J        Non-Fatal           188\n",
       "Piper    J3C-65      Non-Fatal           188\n",
       "         PA-22       Non-Fatal           187\n",
       "Cessna   172K        Non-Fatal           186\n",
       "         T210N       Non-Fatal           184\n",
       "dtype: int64"
      ]
     },
     "execution_count": 23,
     "metadata": {},
     "output_type": "execute_result"
    }
   ],
   "source": [
    "# Count occurrences of each unique combination of Make, Model, and Injury Severity\n",
    "injury_severity_per_make_model = df[[\"Make\", \"Model\", \"Injury_Severity\"]].value_counts()\n",
    "\n",
    "# Display the top 50 most common aircraft Make-Model combinations with their Injury Severity counts  \n",
    "injury_severity_per_make_model.head(50)"
   ]
  },
  {
   "cell_type": "markdown",
   "metadata": {},
   "source": [
    "##### Aircraft make vs model vs Aircraft Category"
   ]
  },
  {
   "cell_type": "code",
   "execution_count": 24,
   "metadata": {},
   "outputs": [
    {
     "data": {
      "text/plain": [
       "Make     Model       Aircraft_Category\n",
       "Cessna   152         Airplane             2366\n",
       "         172         Airplane             1753\n",
       "         172N        Airplane             1163\n",
       "Piper    PA-28-140   Airplane              932\n",
       "Cessna   150         Airplane              829\n",
       "         172M        Airplane              798\n",
       "         172P        Airplane              689\n",
       "         182         Airplane              659\n",
       "         180         Airplane              621\n",
       "         150M        Airplane              585\n",
       "Piper    PA-18       Airplane              578\n",
       "         PA-28-180   Airplane              572\n",
       "         PA-18-150   Airplane              571\n",
       "         PA-28-161   Airplane              565\n",
       "         PA-28-181   Airplane              529\n",
       "Boeing   737         Airplane              489\n",
       "Piper    PA-38-112   Airplane              468\n",
       "Cessna   150L        Airplane              460\n",
       "Beech    A36         Airplane              419\n",
       "Cessna   140         Airplane              401\n",
       "         170B        Airplane              389\n",
       "         172S        Airplane              371\n",
       "Grumman  G-164A      Airplane              365\n",
       "Bell     206B        Airplane              363\n",
       "Piper    PA-32-300   Airplane              356\n",
       "Cessna   182P        Airplane              355\n",
       "Piper    PA-24-250   Airplane              352\n",
       "         PA-28R-200  Airplane              334\n",
       "         PA-12       Airplane              324\n",
       "Cessna   A188B       Airplane              318\n",
       "Piper    PA-23-250   Airplane              311\n",
       "Cessna   177         Airplane              296\n",
       "Mooney   M20J        Airplane              287\n",
       "Cessna   A185F       Airplane              285\n",
       "Piper    PA-22-150   Airplane              281\n",
       "         PA-31-350   Airplane              280\n",
       "Cessna   185         Airplane              279\n",
       "Piper    PA28        Airplane              279\n",
       "Aeronca  7AC         Airplane              271\n",
       "Cessna   182Q        Airplane              266\n",
       "         150F        Airplane              264\n",
       "         210         Airplane              260\n",
       "Piper    PA-25-235   Airplane              257\n",
       "Cessna   172RG       Airplane              245\n",
       "         150H        Airplane              245\n",
       "         T210N       Airplane              244\n",
       "Beech    58          Airplane              242\n",
       "Cessna   150G        Airplane              242\n",
       "         177RG       Airplane              236\n",
       "Piper    PA-32-260   Airplane              230\n",
       "dtype: int64"
      ]
     },
     "execution_count": 24,
     "metadata": {},
     "output_type": "execute_result"
    }
   ],
   "source": [
    "# Count occurrences of each unique combination of Make, Model, and Aircraft Category\n",
    "aircraft_make_model_category = df[[\"Make\", \"Model\", \"Aircraft_Category\"]].value_counts()\n",
    "\n",
    "# Display the top 50 most common aircraft Make-Model combinations with their Aircraft Category counts  \n",
    "aircraft_make_model_category.head(50)"
   ]
  },
  {
   "cell_type": "markdown",
   "metadata": {},
   "source": [
    "##### Aircraft make vs model vs Aircraft Category vs Number of Engines vs Engine Types"
   ]
  },
  {
   "cell_type": "code",
   "execution_count": 58,
   "metadata": {},
   "outputs": [
    {
     "data": {
      "text/plain": [
       "Make     Model       Aircraft_Category  Number_Of_Engines  Engine_Type  \n",
       "Cessna   152         Airplane           1                  Reciprocating    2318\n",
       "         172         Airplane           1                  Reciprocating    1605\n",
       "         172N        Airplane           1                  Reciprocating    1135\n",
       "Piper    PA-28-140   Airplane           1                  Reciprocating     891\n",
       "Cessna   150         Airplane           1                  Reciprocating     783\n",
       "         172M        Airplane           1                  Reciprocating     772\n",
       "         172P        Airplane           1                  Reciprocating     672\n",
       "         180         Airplane           1                  Reciprocating     604\n",
       "         182         Airplane           1                  Reciprocating     587\n",
       "         150M        Airplane           1                  Reciprocating     580\n",
       "Piper    PA-18       Airplane           1                  Reciprocating     563\n",
       "         PA-28-180   Airplane           1                  Reciprocating     560\n",
       "         PA-18-150   Airplane           1                  Reciprocating     559\n",
       "         PA-28-161   Airplane           1                  Reciprocating     549\n",
       "         PA-28-181   Airplane           1                  Reciprocating     510\n",
       "         PA-38-112   Airplane           1                  Reciprocating     457\n",
       "Cessna   150L        Airplane           1                  Reciprocating     450\n",
       "         140         Airplane           1                  Reciprocating     387\n",
       "         170B        Airplane           1                  Reciprocating     380\n",
       "Beech    A36         Airplane           1                  Reciprocating     371\n",
       "Grumman  G-164A      Airplane           1                  Reciprocating     354\n",
       "Cessna   172S        Airplane           1                  Reciprocating     352\n",
       "Bell     206B        Airplane           1                  Turbo Shaft       344\n",
       "Cessna   182P        Airplane           1                  Reciprocating     341\n",
       "Piper    PA-24-250   Airplane           1                  Reciprocating     337\n",
       "         PA-32-300   Airplane           1                  Reciprocating     336\n",
       "         PA-28R-200  Airplane           1                  Reciprocating     322\n",
       "         PA-12       Airplane           1                  Reciprocating     315\n",
       "Cessna   A188B       Airplane           1                  Reciprocating     305\n",
       "         177         Airplane           1                  Reciprocating     286\n",
       "Piper    PA-23-250   Airplane           2                  Reciprocating     280\n",
       "         PA-22-150   Airplane           1                  Reciprocating     273\n",
       "Mooney   M20J        Airplane           1                  Reciprocating     271\n",
       "Cessna   A185F       Airplane           1                  Reciprocating     268\n",
       "         185         Airplane           1                  Reciprocating     267\n",
       "Aeronca  7AC         Airplane           1                  Reciprocating     258\n",
       "Piper    PA-31-350   Airplane           2                  Reciprocating     257\n",
       "Cessna   150F        Airplane           1                  Reciprocating     256\n",
       "         182Q        Airplane           1                  Reciprocating     256\n",
       "Piper    PA-25-235   Airplane           1                  Reciprocating     251\n",
       "Cessna   150H        Airplane           1                  Reciprocating     240\n",
       "         172RG       Airplane           1                  Reciprocating     238\n",
       "         150G        Airplane           1                  Reciprocating     238\n",
       "         T210N       Airplane           1                  Reciprocating     236\n",
       "         177RG       Airplane           1                  Reciprocating     226\n",
       "Piper    PA28        Airplane           1                  Reciprocating     222\n",
       "Cessna   150J        Airplane           1                  Reciprocating     221\n",
       "         210         Airplane           1                  Reciprocating     218\n",
       "         172K        Airplane           1                  Reciprocating     218\n",
       "Piper    J3C-65      Airplane           1                  Reciprocating     214\n",
       "dtype: int64"
      ]
     },
     "execution_count": 58,
     "metadata": {},
     "output_type": "execute_result"
    }
   ],
   "source": [
    "# Count occurrences of each unique combination of Make, Model, Aircraft Category, Number of Engines, and Engine Type  \n",
    "aircraft_make_model_category_engine = df[[\"Make\", \"Model\", \"Aircraft_Category\", \"Number_Of_Engines\", \"Engine_Type\"]].value_counts()\n",
    "\n",
    "\n",
    "# Display the top 50 most common aircraft configurations\n",
    "aircraft_make_model_category_engine.head(50)"
   ]
  },
  {
   "cell_type": "markdown",
   "metadata": {},
   "source": [
    "##### Aircraft make vs model vs Aircraft Category vs Number of Engines vs Engine Types vs Investigation Type"
   ]
  },
  {
   "cell_type": "code",
   "execution_count": 59,
   "metadata": {},
   "outputs": [
    {
     "data": {
      "text/plain": [
       "Make     Model       Aircraft_Category  Number_Of_Engines  Engine_Type    Investigation_Type\n",
       "Cessna   152         Airplane           1                  Reciprocating  Accident              2304\n",
       "         172         Airplane           1                  Reciprocating  Accident              1602\n",
       "         172N        Airplane           1                  Reciprocating  Accident              1132\n",
       "Piper    PA-28-140   Airplane           1                  Reciprocating  Accident               888\n",
       "Cessna   150         Airplane           1                  Reciprocating  Accident               778\n",
       "         172M        Airplane           1                  Reciprocating  Accident               770\n",
       "         172P        Airplane           1                  Reciprocating  Accident               668\n",
       "         180         Airplane           1                  Reciprocating  Accident               604\n",
       "         182         Airplane           1                  Reciprocating  Accident               583\n",
       "         150M        Airplane           1                  Reciprocating  Accident               578\n",
       "Piper    PA-18       Airplane           1                  Reciprocating  Accident               563\n",
       "         PA-28-180   Airplane           1                  Reciprocating  Accident               559\n",
       "         PA-18-150   Airplane           1                  Reciprocating  Accident               559\n",
       "         PA-28-161   Airplane           1                  Reciprocating  Accident               546\n",
       "         PA-28-181   Airplane           1                  Reciprocating  Accident               506\n",
       "         PA-38-112   Airplane           1                  Reciprocating  Accident               453\n",
       "Cessna   150L        Airplane           1                  Reciprocating  Accident               448\n",
       "         140         Airplane           1                  Reciprocating  Accident               387\n",
       "         170B        Airplane           1                  Reciprocating  Accident               380\n",
       "Beech    A36         Airplane           1                  Reciprocating  Accident               367\n",
       "Grumman  G-164A      Airplane           1                  Reciprocating  Accident               354\n",
       "Cessna   172S        Airplane           1                  Reciprocating  Accident               342\n",
       "Bell     206B        Airplane           1                  Turbo Shaft    Accident               342\n",
       "Cessna   182P        Airplane           1                  Reciprocating  Accident               336\n",
       "Piper    PA-24-250   Airplane           1                  Reciprocating  Accident               334\n",
       "         PA-32-300   Airplane           1                  Reciprocating  Accident               333\n",
       "         PA-28R-200  Airplane           1                  Reciprocating  Accident               317\n",
       "         PA-12       Airplane           1                  Reciprocating  Accident               314\n",
       "Cessna   A188B       Airplane           1                  Reciprocating  Accident               303\n",
       "         177         Airplane           1                  Reciprocating  Accident               286\n",
       "Piper    PA-23-250   Airplane           2                  Reciprocating  Accident               275\n",
       "         PA-22-150   Airplane           1                  Reciprocating  Accident               273\n",
       "Mooney   M20J        Airplane           1                  Reciprocating  Accident               267\n",
       "Cessna   A185F       Airplane           1                  Reciprocating  Accident               266\n",
       "         185         Airplane           1                  Reciprocating  Accident               261\n",
       "Aeronca  7AC         Airplane           1                  Reciprocating  Accident               257\n",
       "Cessna   182Q        Airplane           1                  Reciprocating  Accident               256\n",
       "         150F        Airplane           1                  Reciprocating  Accident               255\n",
       "Piper    PA-25-235   Airplane           1                  Reciprocating  Accident               250\n",
       "Cessna   150H        Airplane           1                  Reciprocating  Accident               239\n",
       "         150G        Airplane           1                  Reciprocating  Accident               238\n",
       "Piper    PA-31-350   Airplane           2                  Reciprocating  Accident               236\n",
       "Cessna   T210N       Airplane           1                  Reciprocating  Accident               235\n",
       "         172RG       Airplane           1                  Reciprocating  Accident               232\n",
       "         150J        Airplane           1                  Reciprocating  Accident               221\n",
       "         177RG       Airplane           1                  Reciprocating  Accident               220\n",
       "Piper    PA28        Airplane           1                  Reciprocating  Accident               220\n",
       "Cessna   172K        Airplane           1                  Reciprocating  Accident               218\n",
       "         210         Airplane           1                  Reciprocating  Accident               217\n",
       "Piper    PA-32-260   Airplane           1                  Reciprocating  Accident               213\n",
       "dtype: int64"
      ]
     },
     "execution_count": 59,
     "metadata": {},
     "output_type": "execute_result"
    }
   ],
   "source": [
    "# Count occurrences of each unique combination of Make, Model, Aircraft Category, Number of Engines, Engine Type, and Investigation Type  \n",
    "aircraft_investigation_type = df[[\"Make\", \"Model\", \"Aircraft_Category\", \"Number_Of_Engines\", \"Engine_Type\", \"Investigation_Type\"]].value_counts()\n",
    "\n",
    "\n",
    "# Display the top 50 most common aircraft configurations with their investigation type\n",
    "aircraft_investigation_type.head(50)"
   ]
  },
  {
   "cell_type": "markdown",
   "metadata": {},
   "source": [
    "##### Aircraft make vs model vs Aircraft Category vs Number of Engines vs Engine Types vs Investigation Type vs Purpose of Flight"
   ]
  },
  {
   "cell_type": "code",
   "execution_count": 60,
   "metadata": {},
   "outputs": [
    {
     "data": {
      "text/plain": [
       "Make      Model       Number_Of_Engines  Engine_Type    Investigation_Type  Purpose_Of_Flight \n",
       "Cessna    152         1                  Reciprocating  Accident            Instructional         1422\n",
       "          172         1                  Reciprocating  Accident            Personal              1050\n",
       "          152         1                  Reciprocating  Accident            Personal               804\n",
       "          172N        1                  Reciprocating  Accident            Personal               697\n",
       "Piper     PA-28-140   1                  Reciprocating  Accident            Personal               664\n",
       "Cessna    172M        1                  Reciprocating  Accident            Personal               527\n",
       "          180         1                  Reciprocating  Accident            Personal               509\n",
       "          150         1                  Reciprocating  Accident            Personal               481\n",
       "Piper     PA-28-180   1                  Reciprocating  Accident            Personal               462\n",
       "Cessna    172         1                  Reciprocating  Accident            Instructional          425\n",
       "Piper     PA-18       1                  Reciprocating  Accident            Personal               415\n",
       "Cessna    182         1                  Reciprocating  Accident            Personal               411\n",
       "Piper     PA-18-150   1                  Reciprocating  Accident            Personal               399\n",
       "          PA-28-181   1                  Reciprocating  Accident            Personal               389\n",
       "Cessna    172P        1                  Reciprocating  Accident            Personal               359\n",
       "          172N        1                  Reciprocating  Accident            Instructional          348\n",
       "          170B        1                  Reciprocating  Accident            Personal               330\n",
       "          140         1                  Reciprocating  Accident            Personal               321\n",
       "Piper     PA-28-161   1                  Reciprocating  Accident            Personal               314\n",
       "Grumman   G-164A      1                  Reciprocating  Accident            Aerial Application     313\n",
       "Piper     PA-24-250   1                  Reciprocating  Accident            Personal               288\n",
       "Cessna    150M        1                  Reciprocating  Accident            Personal               286\n",
       "          A188B       1                  Reciprocating  Accident            Aerial Application     273\n",
       "          182P        1                  Reciprocating  Accident            Personal               269\n",
       "          150M        1                  Reciprocating  Accident            Instructional          266\n",
       "Beech     A36         1                  Reciprocating  Accident            Personal               262\n",
       "Cessna    150L        1                  Reciprocating  Accident            Personal               255\n",
       "Piper     PA-38-112   1                  Reciprocating  Accident            Instructional          253\n",
       "          PA-12       1                  Reciprocating  Accident            Personal               251\n",
       "Cessna    150         1                  Reciprocating  Accident            Instructional          247\n",
       "Piper     PA-22-150   1                  Reciprocating  Accident            Personal               238\n",
       "Cessna    172P        1                  Reciprocating  Accident            Instructional          236\n",
       "          177         1                  Reciprocating  Accident            Personal               236\n",
       "Piper     PA-28R-200  1                  Reciprocating  Accident            Personal               224\n",
       "Aeronca   7AC         1                  Reciprocating  Accident            Personal               215\n",
       "Mooney    M20J        1                  Reciprocating  Accident            Personal               209\n",
       "Piper     PA-28-161   1                  Reciprocating  Accident            Instructional          205\n",
       "          PA-32-300   1                  Reciprocating  Accident            Personal               205\n",
       "Cessna    182Q        1                  Reciprocating  Accident            Personal               201\n",
       "          172S        1                  Reciprocating  Accident            Instructional          190\n",
       "Piper     PA-28-140   1                  Reciprocating  Accident            Instructional          189\n",
       "          PA-38-112   1                  Reciprocating  Accident            Personal               184\n",
       "          PA-22       1                  Reciprocating  Accident            Personal               179\n",
       "          J3C-65      1                  Reciprocating  Accident            Personal               178\n",
       "Luscombe  8A          1                  Reciprocating  Accident            Personal               178\n",
       "Cessna    150F        1                  Reciprocating  Accident            Personal               178\n",
       "          172M        1                  Reciprocating  Accident            Instructional          173\n",
       "          177RG       1                  Reciprocating  Accident            Personal               172\n",
       "          A185F       1                  Reciprocating  Accident            Personal               170\n",
       "Piper     PA-25-235   1                  Reciprocating  Accident            Aerial Application     170\n",
       "dtype: int64"
      ]
     },
     "execution_count": 60,
     "metadata": {},
     "output_type": "execute_result"
    }
   ],
   "source": [
    "# Count occurrences of each unique combination of Make, Model, Number of Engines, Engine Type, Investigation Type, and Purpose of Flight\n",
    "aircraft_investigation_type_flight = df[[\"Make\", \"Model\", \"Number_Of_Engines\", \"Engine_Type\", \"Investigation_Type\", \"Purpose_Of_Flight\"]].value_counts()\n",
    "\n",
    "# Display the top 50 most common aircraft configurations with their investigation types and purpose of flight\n",
    "aircraft_investigation_type_flight.head(50)"
   ]
  },
  {
   "cell_type": "code",
   "execution_count": 61,
   "metadata": {},
   "outputs": [
    {
     "data": {
      "text/plain": [
       "Accident    80443\n",
       "Incident     3776\n",
       "Name: Investigation_Type, dtype: int64"
      ]
     },
     "execution_count": 61,
     "metadata": {},
     "output_type": "execute_result"
    }
   ],
   "source": [
    "# Count occurrences of each unique Investigation Type\n",
    "investigation_type = df[\"Investigation_Type\"].value_counts()\n",
    "\n",
    "# Display the top 50 most common Investigation Types\n",
    "investigation_type.head(50)"
   ]
  },
  {
   "cell_type": "code",
   "execution_count": 62,
   "metadata": {},
   "outputs": [
    {
     "data": {
      "text/plain": [
       "1    66360\n",
       "2    10840\n",
       "1     5381\n",
       "3      482\n",
       "4      426\n",
       "6        1\n",
       "8        1\n",
       "Name: Number_Of_Engines, dtype: int64"
      ]
     },
     "execution_count": 62,
     "metadata": {},
     "output_type": "execute_result"
    }
   ],
   "source": [
    "# Count occurrences of each unique Number_Of_Engines Type\n",
    "engine_number = df[\"Number_Of_Engines\"].value_counts()\n",
    "\n",
    "# Display the top 50 most common Number_Of_Engines Types\n",
    "engine_number.head(20)"
   ]
  },
  {
   "cell_type": "code",
   "execution_count": 63,
   "metadata": {},
   "outputs": [
    {
     "data": {
      "text/plain": [
       "UNKNOWN        23465\n",
       "Landing        15195\n",
       "Takeoff        12352\n",
       "Cruise         10117\n",
       "Maneuvering     7895\n",
       "Approach        6446\n",
       "Climb           2018\n",
       "Taxi            1942\n",
       "Descent         1857\n",
       "Go-around       1350\n",
       "Standing         921\n",
       "Unknown          546\n",
       "Other            115\n",
       "Name: Broad_Phase_Of_Flight, dtype: int64"
      ]
     },
     "execution_count": 63,
     "metadata": {},
     "output_type": "execute_result"
    }
   ],
   "source": [
    "# Count occurrences of each unique broad phase of flight\n",
    "broad_phase_of_flight = df[\"Broad_Phase_Of_Flight\"].value_counts()\n",
    "\n",
    "# Display the top 50 most common phases of flight where accidents occurred\n",
    "broad_phase_of_flight.head(50)"
   ]
  },
  {
   "cell_type": "code",
   "execution_count": 64,
   "metadata": {},
   "outputs": [
    {
     "data": {
      "text/plain": [
       "Make                            Amateur_Built\n",
       "Cessna                          No               27047\n",
       "Piper                           No               14817\n",
       "Beech                           No                5352\n",
       "Boeing                          No                2695\n",
       "Bell                            No                1797\n",
       "Mooney                          No                1325\n",
       "Grumman                         No                1167\n",
       "Bellanca                        No                1040\n",
       "Air Tractor                     No                 691\n",
       "Hughes                          No                 686\n",
       "Robinson                        No                 676\n",
       "Aeronca                         No                 634\n",
       "Maule                           No                 588\n",
       "Mcdonnell Douglas               No                 581\n",
       "Schweizer                       No                 549\n",
       "Champion                        No                 515\n",
       "Stinson                         No                 438\n",
       "Aero Commander                  No                 427\n",
       "De Havilland                    No                 420\n",
       "Luscombe                        No                 412\n",
       "North American                  No                 383\n",
       "Taylorcraft                     No                 383\n",
       "Rockwell                        No                 353\n",
       "Aerospatiale                    No                 291\n",
       "Hiller                          No                 280\n",
       "Douglas                         No                 276\n",
       "Airbus                          No                 268\n",
       "Embraer                         No                 237\n",
       "Ayres                           No                 235\n",
       "Cirrus Design Corp              No                 223\n",
       "Grumman American                No                 223\n",
       "Air Tractor Inc                 No                 219\n",
       "Enstrom                         No                 212\n",
       "Swearingen                      No                 177\n",
       "Fairchild                       No                 161\n",
       "Ercoupe (Eng & Research Corp.)  No                 158\n",
       "Airbus Industrie                No                 158\n",
       "Cirrus                          No                 149\n",
       "Lake                            No                 149\n",
       "Mitsubishi                      No                 144\n",
       "Waco                            No                 142\n",
       "Aviat                           No                 140\n",
       "Sikorsky                        No                 136\n",
       "Learjet                         No                 132\n",
       "Grumman-Schweizer               No                 127\n",
       "Socata                          No                 125\n",
       "Balloon Works                   No                 124\n",
       "Lockheed                        No                 119\n",
       "Vans                            Yes                114\n",
       "Helio                           No                 111\n",
       "dtype: int64"
      ]
     },
     "execution_count": 64,
     "metadata": {},
     "output_type": "execute_result"
    }
   ],
   "source": [
    "# Count occurences of each combination of Make and Amateur_Built\n",
    "Make_Amateur_Built = df[[\"Make\" , \"Amateur_Built\"]].value_counts()\n",
    "\n",
    "# Display the top 50 most common Aircraft Make with Amateur_Built\n",
    "Make_Amateur_Built.head(50)"
   ]
  },
  {
   "cell_type": "code",
   "execution_count": 65,
   "metadata": {},
   "outputs": [
    {
     "data": {
      "text/plain": [
       "Investigation_Type  Broad_Phase_Of_Flight\n",
       "Accident            UNKNOWN                  21598\n",
       "                    Landing                  14842\n",
       "                    Takeoff                  11993\n",
       "                    Cruise                    9754\n",
       "                    Maneuvering               7861\n",
       "                    Approach                  6239\n",
       "Incident            UNKNOWN                   1867\n",
       "Accident            Climb                     1834\n",
       "                    Taxi                      1767\n",
       "                    Descent                   1748\n",
       "                    Go-around                 1335\n",
       "                    Standing                   831\n",
       "                    Unknown                    534\n",
       "Incident            Cruise                     363\n",
       "                    Takeoff                    359\n",
       "                    Landing                    353\n",
       "                    Approach                   207\n",
       "                    Climb                      184\n",
       "                    Taxi                       175\n",
       "                    Descent                    109\n",
       "Accident            Other                      107\n",
       "Incident            Standing                    90\n",
       "                    Maneuvering                 34\n",
       "                    Go-around                   15\n",
       "                    Unknown                     12\n",
       "                    Other                        8\n",
       "dtype: int64"
      ]
     },
     "execution_count": 65,
     "metadata": {},
     "output_type": "execute_result"
    }
   ],
   "source": [
    "# Count occurrences of each combination of Investigation Type and Broad Phase of Flight\n",
    "investigation_type_broad_phase_of_flight = df[[\"Investigation_Type\", \"Broad_Phase_Of_Flight\"]].value_counts()\n",
    "\n",
    "# Display the top 50 most common combination\n",
    "investigation_type_broad_phase_of_flight.head(50)"
   ]
  },
  {
   "cell_type": "code",
   "execution_count": 66,
   "metadata": {},
   "outputs": [
    {
     "data": {
      "text/plain": [
       "Make                Investigation_Type  Broad_Phase_Of_Flight\n",
       "Cessna              Accident            Landing                  6407\n",
       "                                        UNKNOWN                  6308\n",
       "                                        Takeoff                  3825\n",
       "Piper               Accident            UNKNOWN                  3664\n",
       "Cessna              Accident            Cruise                   3396\n",
       "Piper               Accident            Landing                  2732\n",
       "                                        Takeoff                  2387\n",
       "Cessna              Accident            Approach                 2108\n",
       "Piper               Accident            Cruise                   2027\n",
       "Cessna              Accident            Maneuvering              1804\n",
       "Beech               Accident            UNKNOWN                  1351\n",
       "Piper               Accident            Approach                 1245\n",
       "                                        Maneuvering              1064\n",
       "Boeing              Incident            UNKNOWN                   908\n",
       "Beech               Accident            Landing                   873\n",
       "                                        Takeoff                   816\n",
       "Cessna              Accident            Taxi                      710\n",
       "Beech               Accident            Cruise                    703\n",
       "Boeing              Accident            UNKNOWN                   680\n",
       "Cessna              Accident            Descent                   629\n",
       "                                        Go-around                 609\n",
       "Beech               Accident            Approach                  593\n",
       "Bell                Accident            Maneuvering               558\n",
       "Cessna              Accident            Climb                     542\n",
       "Piper               Accident            Climb                     380\n",
       "Grumman             Accident            Maneuvering               374\n",
       "Bell                Accident            Cruise                    356\n",
       "Piper               Accident            Taxi                      328\n",
       "                                        Descent                   311\n",
       "Mooney              Accident            UNKNOWN                   310\n",
       "Piper               Accident            Go-around                 298\n",
       "Air Tractor         Accident            Maneuvering               259\n",
       "Grumman             Accident            Takeoff                   258\n",
       "Bellanca            Accident            Landing                   255\n",
       "Cessna              Accident            Standing                  251\n",
       "Bell                Accident            Takeoff                   251\n",
       "Mooney              Accident            Cruise                    249\n",
       "Hughes              Accident            Maneuvering               232\n",
       "Mooney              Accident            Landing                   219\n",
       "Maule               Accident            Landing                   217\n",
       "Air Tractor Inc     Accident            UNKNOWN                   216\n",
       "Cirrus Design Corp  Accident            UNKNOWN                   208\n",
       "Beech               Accident            Maneuvering               204\n",
       "Bell                Accident            Landing                   188\n",
       "Robinson            Accident            Maneuvering               186\n",
       "Grumman             Accident            Landing                   185\n",
       "Bellanca            Accident            UNKNOWN                   180\n",
       "Mooney              Accident            Takeoff                   178\n",
       "Maule               Accident            UNKNOWN                   177\n",
       "Cessna              Accident            Unknown                   176\n",
       "dtype: int64"
      ]
     },
     "execution_count": 66,
     "metadata": {},
     "output_type": "execute_result"
    }
   ],
   "source": [
    "# Count occurrences of each combination of Aircraft Make, Investigation Type, and Broad Phase of Flight\n",
    "make_investigation_type_broad_phase_of_flight = df[[\"Make\", \"Investigation_Type\", \"Broad_Phase_Of_Flight\"]].value_counts()\n",
    "\n",
    "# Display the top 50 most common combinations\n",
    "make_investigation_type_broad_phase_of_flight.head(50)"
   ]
  },
  {
   "cell_type": "code",
   "execution_count": 67,
   "metadata": {},
   "outputs": [
    {
     "data": {
      "image/png": "[encoded data removed]",
      "text/plain": [
       "<Figure size 720x432 with 1 Axes>"
      ]
     },
     "metadata": {
      "needs_background": "light"
     },
     "output_type": "display_data"
    }
   ],
   "source": [
    "# Plot the distribution of weather conditions\n",
    "plt.figure(figsize=(10, 6))\n",
    "\n",
    "# Plot on the occurence of each unique value in 'Weather_Condition'\n",
    "df['Weather_Condition'].value_counts().plot(kind='bar', color='purple')\n",
    "\n",
    "# Add a title and Label the axis\n",
    "plt.title('Distribution of Weather Conditions During Accidents', fontsize=16)\n",
    "plt.xlabel('Weather Condition', fontsize=14)\n",
    "plt.ylabel('Count', fontsize=14)\n",
    "\n",
    "# Display the plot\n",
    "plt.show()"
   ]
  },
  {
   "cell_type": "markdown",
   "metadata": {},
   "source": [
    "- VMC (Visual Meteorological Conditions) accounts for the majority of accidents.\n",
    "- IMC (Instrument Meteorological Conditions) represents a smaller proportion of accidents.\n",
    "- A small number of accidents occurred under \"Unknown\" weather conditions"
   ]
  },
  {
   "cell_type": "code",
   "execution_count": 68,
   "metadata": {},
   "outputs": [
    {
     "data": {
      "image/png": "[encoded data removed]",
      "text/plain": [
       "<Figure size 720x432 with 1 Axes>"
      ]
     },
     "metadata": {
      "needs_background": "light"
     },
     "output_type": "display_data"
    }
   ],
   "source": [
    "# Plot the distribution of phase of flight\n",
    "plt.figure(figsize=(10, 6))\n",
    "df['Broad_Phase_Of_Flight'].value_counts().plot(kind='bar', color='teal')\n",
    "\n",
    "# Add a title and Label the axis\n",
    "plt.title('Distribution of Phase of Flight During Accidents', fontsize=16)\n",
    "plt.xlabel('Phase of Flight', fontsize=14)\n",
    "plt.ylabel('Count', fontsize=14)\n",
    "\n",
    "# Display the plot\n",
    "plt.show()"
   ]
  },
  {
   "cell_type": "markdown",
   "metadata": {},
   "source": [
    "Landing and Takeoff are the riskiest flight phases, where operational and procedural improvements could significantly reduce accidents."
   ]
  },
  {
   "cell_type": "code",
   "execution_count": 69,
   "metadata": {},
   "outputs": [
    {
     "data": {
      "image/png": "[encoded data removed]",
      "text/plain": [
       "<Figure size 720x432 with 1 Axes>"
      ]
     },
     "metadata": {
      "needs_background": "light"
     },
     "output_type": "display_data"
    }
   ],
   "source": [
    "# Plot the distribution of engine types\n",
    "plt.figure(figsize=(10, 6))\n",
    "df['Engine_Type'].value_counts().plot(kind='bar', color='brown')\n",
    "\n",
    "# Add a title and Label the axis\n",
    "plt.title('Distribution of Engine Types in Accidents', fontsize=16)\n",
    "plt.xlabel('Engine Type', fontsize=15)\n",
    "plt.ylabel('Count', fontsize=15)\n",
    "\n",
    "# Display the plot\n",
    "plt.show()"
   ]
  },
  {
   "cell_type": "markdown",
   "metadata": {},
   "source": [
    "Reciprocating engines account for the majority of accidents, significantly outnumbering other engine types."
   ]
  },
  {
   "cell_type": "code",
   "execution_count": 70,
   "metadata": {},
   "outputs": [
    {
     "data": {
      "image/png": "[encoded data removed]",
      "text/plain": [
       "<Figure size 1080x360 with 1 Axes>"
      ]
     },
     "metadata": {
      "needs_background": "light"
     },
     "output_type": "display_data"
    }
   ],
   "source": [
    "# Plot the distribution of Aircraft make involved in Accidents\n",
    "plt.figure(figsize=(15,5))\n",
    "df['Make'].str.upper().value_counts().sort_values(ascending=False)[:20].plot(kind='bar', color='blue')\n",
    "\n",
    "\n",
    "# Add a title and Label the axis\n",
    "plt.xlabel(\"Aircraft Make\", size=15)\n",
    "plt.ylabel(\"Number of Accidents\", size=15)\n",
    "plt.title(\"Top 20 Aircraft make by Accidents Count\", size=20)\n",
    "y=df['Make'].str.upper().value_counts().sort_values(ascending=False)[:20]\n",
    "\n",
    "# Display the plot\n",
    "plt.show()"
   ]
  },
  {
   "cell_type": "markdown",
   "metadata": {},
   "source": [
    "Most aircraft makes with high accident counts (e.g., Cessna, Piper, Beech, Bell) are associated with general aviation, which typically has a higher volume of flights and less rigorous regulatory oversight compared to commercial aviation"
   ]
  },
  {
   "cell_type": "code",
   "execution_count": 71,
   "metadata": {},
   "outputs": [
    {
     "data": {
      "image/png": "[encoded data removed]",
      "text/plain": [
       "<Figure size 1440x576 with 2 Axes>"
      ]
     },
     "metadata": {
      "needs_background": "light"
     },
     "output_type": "display_data"
    }
   ],
   "source": [
    "# Replace 0.0 in Number_Of_Engines with NaN\n",
    "df['Number_Of_Engines'] = df['Number_Of_Engines'].replace(0.0, np.nan)\n",
    "\n",
    "# Group by Make and Model to Count Accident \n",
    "make_model_accident_counts = df.groupby(['Make', 'Model']).size().reset_index(name='AccidentCount')\n",
    "\n",
    "# Sort Accident Counts in Descending Order\n",
    "make_model_accident_counts = make_model_accident_counts.sort_values(by='AccidentCount', ascending=False)\n",
    "\n",
    "# Create a figure and two axes (side-by-side) for subplots\n",
    "fig, axes = plt.subplots(1, 2, figsize=(20, 8))\n",
    "\n",
    "# Top 20 Aircraft Makes and Models Involved in Accidents\n",
    "top_20_make_model = make_model_accident_counts.head(20)\n",
    "colors = sns.color_palette(\"dark\", len(top_20_make_model))\n",
    "axes[0].barh(top_20_make_model['Make'] + ' ' + top_20_make_model['Model'], top_20_make_model['AccidentCount'], color=colors)\n",
    "axes[0].set_xlabel('Number of Accidents')\n",
    "axes[0].set_ylabel('Make and Model')\n",
    "axes[0].set_title('Top 20 Aircraft Makes and Models Involved in Accidents')\n",
    "axes[0].invert_yaxis()\n",
    "\n",
    "# Set the title and labels with appropriate font sizes\n",
    "sns.countplot(data=df, x='Number_Of_Engines', order=df['Number_Of_Engines'].value_counts().index, ax=axes[1])\n",
    "axes[1].set_title('Aircraft Engine Types Involved in Accidents')\n",
    "axes[1].set_ylabel('Number of Accidents')\n",
    "axes[1].set_xlabel('Engine Type')\n",
    "axes[1].tick_params(axis='x', rotation=90)\n",
    "\n",
    "# Display the plot\n",
    "plt.show()"
   ]
  },
  {
   "cell_type": "markdown",
   "metadata": {},
   "source": [
    "Cessna aircraft, particularly the 152 and 172 models, require focused evaluation for safety measures due to their frequent involvement in accidents."
   ]
  },
  {
   "cell_type": "code",
   "execution_count": 72,
   "metadata": {},
   "outputs": [
    {
     "data": {
      "image/png": "[encoded data removed]",
      "text/plain": [
       "<Figure size 1296x360 with 1 Axes>"
      ]
     },
     "metadata": {
      "needs_background": "light"
     },
     "output_type": "display_data"
    }
   ],
   "source": [
    "# Identify the Top 20 Aircraft Makes\n",
    "make_top20 = df['Make'].value_counts().nlargest(20).index.tolist()\n",
    "\n",
    "# Filter the Data for the Top 20 Aircraft Make\n",
    "make_data = df[df['Make'].isin(make_top20)]\n",
    "\n",
    "# Average Fatality Rate for Each Aircraft Make\n",
    "makefatal = make_data.groupby('Make')['Fatality'].mean().reindex(make_top20)\n",
    "\n",
    "# average fatality rate across all makes\n",
    "averagefatal = df['Fatality'].mean()\n",
    "\n",
    "# plot a bar plot for the 'makefatal' data\n",
    "plt.figure(figsize=(18, 5))\n",
    "makefatal.plot.bar(color='blue', width=0.8)\n",
    "\n",
    "# horizontal line for the average fatality rate\n",
    "plt.axhline(y=averagefatal, color='r', linestyle='-', label='Average Fatality Rate')\n",
    "\n",
    "# Set the title and labels with appropriate font sizes\n",
    "plt.title('Fatality Rate by Aircraft Make (Top 20)', fontsize=16)\n",
    "plt.xlabel('Aircraft Make', fontsize=14)\n",
    "plt.ylabel('Fatality Rate', fontsize=14)\n",
    "plt.legend(loc='upper right')\n",
    "plt.xticks(rotation=45, ha='right')\n",
    "plt.tight_layout()\n",
    "\n",
    "# Display the plot\n",
    "plt.show()"
   ]
  },
  {
   "cell_type": "markdown",
   "metadata": {},
   "source": [
    "Boeing and Northrop Douglas have significantly higher fatality rates compared to other manufacturers, with Boeing being the most notable. These rates could be due to the larger capacity and operations in commercial aviation, where accidents tend to involve more fatalities per event."
   ]
  },
  {
   "cell_type": "code",
   "execution_count": 73,
   "metadata": {},
   "outputs": [
    {
     "data": {
      "image/png": "[encoded data removed]",
      "text/plain": [
       "<Figure size 864x432 with 1 Axes>"
      ]
     },
     "metadata": {
      "needs_background": "light"
     },
     "output_type": "display_data"
    }
   ],
   "source": [
    "# Identify the Top 20 Aircraft Makes\n",
    "top_20_makes = df['Make'].value_counts().nlargest(20).index\n",
    "\n",
    "# Filter the Data for the Top 20 Aircraft Makes:\n",
    "df_top_20_makes = df[df['Make'].isin(top_20_makes)]\n",
    "\n",
    "# Group by Aircraft Make and Fatality Status\n",
    "injury_by_make = df_top_20_makes.groupby(['Make', 'Fatality']).size().unstack()\n",
    "\n",
    "# Plot a Stacked Bar Chart\n",
    "injury_by_make.plot(kind='bar', stacked=True, figsize=(12,6), colormap='Accent', edgecolor='black')\n",
    "\n",
    "# Add Titles and Labels\n",
    "plt.xlabel(\"Aircraft Make\")\n",
    "plt.ylabel(\"Number of Accidents\")\n",
    "plt.title(\"Aircraft Safety: Fatality by Make (Top 20)\")\n",
    "plt.xticks(rotation=90)\n",
    "plt.legend(title=\"Fatality\")\n",
    "plt.grid(axis='y', linestyle='--', alpha=0.7)\n",
    "\n",
    "# Display the Plot\n",
    "plt.show()\n"
   ]
  },
  {
   "cell_type": "markdown",
   "metadata": {},
   "source": [
    "Cessna and Piper are high-risk due to frequent use in accidents but not necessarily the deadliest in terms of average fatalities per crash.\n",
    "Boeing’s accidents are less frequent but often more severe, possibly due to its involvement in larger-scale commercial aviation."
   ]
  },
  {
   "cell_type": "code",
   "execution_count": 74,
   "metadata": {},
   "outputs": [
    {
     "data": {
      "image/png": "[encoded data removed]",
      "text/plain": [
       "<Figure size 864x432 with 1 Axes>"
      ]
     },
     "metadata": {
      "needs_background": "light"
     },
     "output_type": "display_data"
    }
   ],
   "source": [
    "# Identify the top 20 makes with the most occurrences\n",
    "top_20_makes = df['Make'].value_counts().nlargest(20).index\n",
    "\n",
    "# Filter the dataset for the top 20 makes\n",
    "df_top_20_makes = df[df['Make'].isin(top_20_makes)]\n",
    "\n",
    "# Group by make and fatality status, then unstack for plotting\n",
    "damage_by_make = df_top_20_makes.groupby(['Make', 'Aircraft_Damage']).size().unstack()\n",
    "\n",
    "# Sort by total accidents for better insights\n",
    "damage_by_make.plot(kind='bar', stacked=True, figsize=(12,6), colormap='coolwarm', edgecolor='black')\n",
    "\n",
    "# Add Titles and Labels\n",
    "plt.xlabel(\"Aircraft Make\")\n",
    "plt.ylabel(\"Number of Accidents\")\n",
    "plt.title(\"Aircraft Reliability: Damage Severity by Make (Top 20)\")\n",
    "plt.xticks(rotation=90)\n",
    "plt.legend(title=\"Damage Level\")\n",
    "plt.grid(axis='y', linestyle='--', alpha=0.7)\n",
    "plt.tight_layout()\n",
    "\n",
    "# Display the plot\n",
    "plt.show()\n"
   ]
  },
  {
   "cell_type": "markdown",
   "metadata": {},
   "source": [
    "Cessna leads in the number of accidents across all damage categories, followed by Piper and Beech."
   ]
  },
  {
   "cell_type": "code",
   "execution_count": 75,
   "metadata": {},
   "outputs": [
    {
     "data": {
      "image/png": "[encoded data removed]",
      "text/plain": [
       "<Figure size 864x432 with 1 Axes>"
      ]
     },
     "metadata": {
      "needs_background": "light"
     },
     "output_type": "display_data"
    }
   ],
   "source": [
    "# Identify Top 20 Aircraft Makes\n",
    "top_20_makes = df['Make'].value_counts().nlargest(20).index\n",
    "\n",
    "# Filter Data for Top 20 Makes:\n",
    "df_top_20_makes = df[df['Make'].isin(top_20_makes)]\n",
    "\n",
    "# Group Data by Make and Weather Condition\n",
    "weather_by_make = df_top_20_makes.groupby(['Make', 'Weather_Condition']).size().unstack()\n",
    "\n",
    "# Plot a Stacked Bar Chart\n",
    "weather_by_make.plot(kind='bar', stacked=True, figsize=(12,6), colormap='plasma', edgecolor='black')\n",
    "\n",
    "# Add Labels and Title\n",
    "plt.xlabel(\"Aircraft Make\")\n",
    "plt.ylabel(\"Number of Accidents\")\n",
    "plt.title(\"Aircraft Performance Under Different Weather Conditions (Top 20)\")\n",
    "plt.xticks(rotation=90)\n",
    "plt.legend(title=\"Weather Condition\")\n",
    "\n",
    "\n",
    "\n",
    "# Display the plot\n",
    "plt.show()\n"
   ]
  },
  {
   "cell_type": "markdown",
   "metadata": {},
   "source": [
    "Conclusions for the charts above:\n",
    "\n",
    "1) Board phase of flight: Sadly, many events lack information about broad flight phases. Putting this aside, we may observe that the most hazardous flight phases occur during landing, takeoff, cruising, manoeuvring, and approach. \n",
    "\n",
    "2) Amateur Built: Although there are many more similar aircraft in the world, the majority of occurrences involved aircraft that were not constructed by amateurs. Airports are not allowed to utilise amateur-built aircraft since they are unsafe; instead, aeroplanes are made in factories. \n",
    "\n",
    "3) Engine count: single-engine aircraft are more likely to be involved in accidents, hence flying a plane with many engines is safer;\n",
    "\n",
    "4) Engine Type: accidents are more common in aircraft with reciprocating engines;\n",
    "\n",
    "5) Weather: VMC conditions are associated with a higher number of accidents. The weather and circumstances in which a pilot may safely and adequately maintain visuals of all other aircraft and the surrounding landscape are referred to as VMC conditions. When visibility and weather circumstances force the pilot to rely on their instruments and perform an IFR flight, this is referred to as IMC conditions. Usually, this is carried out when flying through clouds and in generally unfavourable conditions.\n",
    "\n",
    "6) \"Purpose of fly\": don't affect mishaps, as it's clear that more people fly for private reasons.\n",
    "\n"
   ]
  },
  {
   "cell_type": "markdown",
   "metadata": {},
   "source": []
  }
 ],
 "metadata": {
  "kernelspec": {
   "display_name": "learn-env",
   "language": "python",
   "name": "python3"
  },
  "language_info": {
   "codemirror_mode": {
    "name": "ipython",
    "version": 3
   },
   "file_extension": ".py",
   "mimetype": "text/x-python",
   "name": "python",
   "nbconvert_exporter": "python",
   "pygments_lexer": "ipython3",
   "version": "3.8.5"
  }
 },
 "nbformat": 4,
 "nbformat_minor": 2
}
